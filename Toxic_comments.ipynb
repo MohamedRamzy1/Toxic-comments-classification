{
 "cells": [
  {
   "cell_type": "code",
   "execution_count": null,
   "metadata": {
    "colab": {
     "autoexec": {
      "startup": false,
      "wait_interval": 0
     },
     "base_uri": "https://localhost:8080/",
     "height": 17
    },
    "colab_type": "code",
    "executionInfo": {
     "elapsed": 1058,
     "status": "ok",
     "timestamp": 1529969916328,
     "user": {
      "displayName": "Mohamed Ramzy",
      "photoUrl": "https://lh3.googleusercontent.com/a/default-user=s128",
      "userId": "110230820219558545195"
     },
     "user_tz": -120
    },
    "id": "ny9UB_gUZFWT",
    "outputId": "1113403a-de13-4132-f0b0-39bfbd6c8c62"
   },
   "outputs": [],
   "source": [
    "import keras as k\n",
    "from keras.preprocessing.text import Tokenizer\n",
    "from keras.preprocessing.sequence import pad_sequences\n",
    "from keras.layers import CuDNNGRU , CuDNNLSTM , Bidirectional , GRU\n",
    "import numpy as np\n",
    "import pandas as pd\n",
    "import re\n",
    "from sklearn.model_selection import train_test_split\n",
    "from sklearn.metrics import roc_auc_score\n",
    "from keras.callbacks import Callback"
   ]
  },
  {
   "cell_type": "code",
   "execution_count": null,
   "metadata": {
    "colab": {
     "autoexec": {
      "startup": false,
      "wait_interval": 0
     },
     "base_uri": "https://localhost:8080/",
     "height": 34
    },
    "colab_type": "code",
    "executionInfo": {
     "elapsed": 36970,
     "status": "ok",
     "timestamp": 1529965773715,
     "user": {
      "displayName": "Mohamed Ramzy",
      "photoUrl": "https://lh3.googleusercontent.com/a/default-user=s128",
      "userId": "110230820219558545195"
     },
     "user_tz": -120
    },
    "id": "Nu0sdD7keS09",
    "outputId": "f9c2f156-e231-49de-8310-c055d154e9ff"
   },
   "outputs": [],
   "source": [
    "file = open(\"glove.twitter.27B.100d.txt\")\n",
    "num_vocab = 0\n",
    "word_to_vec = {}\n",
    "for line in file.readlines():\n",
    "  \n",
    "    row = line.strip().split(' ')\n",
    "    word = row[0]\n",
    "    vec = row[1:] \n",
    "    num_vocab += 1\n",
    "    word_to_vec[word] = vec\n",
    "      \n",
    "print(\"Glove preprocessed\")\n",
    "\n",
    "file.close()"
   ]
  },
  {
   "cell_type": "code",
   "execution_count": 3,
   "metadata": {
    "colab": {
     "autoexec": {
      "startup": false,
      "wait_interval": 0
     },
     "base_uri": "https://localhost:8080/",
     "height": 37
    },
    "colab_type": "code",
    "executionInfo": {
     "elapsed": 2461,
     "status": "ok",
     "timestamp": 1529965823561,
     "user": {
      "displayName": "Mohamed Ramzy",
      "photoUrl": "https://lh3.googleusercontent.com/a/default-user=s128",
      "userId": "110230820219558545195"
     },
     "user_tz": -120
    },
    "id": "VmGuW8ajmlle",
    "outputId": "f9434122-5eef-407f-fc75-84dec83704c0"
   },
   "outputs": [],
   "source": [
    "train = pd.read_csv(\"train.csv\")\n",
    "test = pd.read_csv(\"test.csv\")\n",
    "submission = pd.read_csv(\"sample_submission.csv\")"
   ]
  },
  {
   "cell_type": "code",
   "execution_count": 4,
   "metadata": {
    "colab": {
     "autoexec": {
      "startup": false,
      "wait_interval": 0
     },
     "base_uri": "https://localhost:8080/",
     "height": 37
    },
    "colab_type": "code",
    "executionInfo": {
     "elapsed": 1092,
     "status": "ok",
     "timestamp": 1529965826187,
     "user": {
      "displayName": "Mohamed Ramzy",
      "photoUrl": "https://lh3.googleusercontent.com/a/default-user=s128",
      "userId": "110230820219558545195"
     },
     "user_tz": -120
    },
    "id": "Tr7pVcgPmtTG",
    "outputId": "2f7bf418-19c4-42a7-c048-e09e54ff1783"
   },
   "outputs": [],
   "source": [
    "X_train = train[\"comment_text\"].fillna(\"Nothing\").values\n",
    "y_train = train[[\"toxic\", \"severe_toxic\", \"obscene\", \"threat\", \"insult\", \"identity_hate\"]].values\n",
    "X_test = test[\"comment_text\"].fillna(\"Nothing\").values\n"
   ]
  },
  {
   "cell_type": "code",
   "execution_count": 5,
   "metadata": {
    "colab": {
     "autoexec": {
      "startup": false,
      "wait_interval": 0
     },
     "base_uri": "https://localhost:8080/",
     "height": 37
    },
    "colab_type": "code",
    "executionInfo": {
     "elapsed": 941,
     "status": "ok",
     "timestamp": 1529965827213,
     "user": {
      "displayName": "Mohamed Ramzy",
      "photoUrl": "https://lh3.googleusercontent.com/a/default-user=s128",
      "userId": "110230820219558545195"
     },
     "user_tz": -120
    },
    "id": "2gnib2xun1BO",
    "outputId": "67543e0d-b117-4544-8118-c2f1c84dfaab"
   },
   "outputs": [],
   "source": [
    "tokenizer = Tokenizer(num_words = num_vocab)"
   ]
  },
  {
   "cell_type": "code",
   "execution_count": 6,
   "metadata": {
    "colab": {
     "autoexec": {
      "startup": false,
      "wait_interval": 0
     },
     "base_uri": "https://localhost:8080/",
     "height": 37
    },
    "colab_type": "code",
    "executionInfo": {
     "elapsed": 25116,
     "status": "ok",
     "timestamp": 1529965852416,
     "user": {
      "displayName": "Mohamed Ramzy",
      "photoUrl": "https://lh3.googleusercontent.com/a/default-user=s128",
      "userId": "110230820219558545195"
     },
     "user_tz": -120
    },
    "id": "XUC7U3aMqDPe",
    "outputId": "a850e334-064f-4f19-b9e9-ab47947fb566"
   },
   "outputs": [],
   "source": [
    "tokenizer.fit_on_texts(list(X_train) + list(X_test))"
   ]
  },
  {
   "cell_type": "code",
   "execution_count": 7,
   "metadata": {
    "colab": {
     "autoexec": {
      "startup": false,
      "wait_interval": 0
     },
     "base_uri": "https://localhost:8080/",
     "height": 37
    },
    "colab_type": "code",
    "executionInfo": {
     "elapsed": 22235,
     "status": "ok",
     "timestamp": 1529965874796,
     "user": {
      "displayName": "Mohamed Ramzy",
      "photoUrl": "https://lh3.googleusercontent.com/a/default-user=s128",
      "userId": "110230820219558545195"
     },
     "user_tz": -120
    },
    "id": "AzDTAyAxq12I",
    "outputId": "6ae3c2d1-f6ac-4357-8ddf-59cedfd7ddb7"
   },
   "outputs": [],
   "source": [
    "X_train = tokenizer.texts_to_sequences(X_train)\n",
    "X_test = tokenizer.texts_to_sequences(X_test)"
   ]
  },
  {
   "cell_type": "code",
   "execution_count": 8,
   "metadata": {
    "colab": {
     "autoexec": {
      "startup": false,
      "wait_interval": 0
     },
     "base_uri": "https://localhost:8080/",
     "height": 37
    },
    "colab_type": "code",
    "executionInfo": {
     "elapsed": 3356,
     "status": "ok",
     "timestamp": 1529965878273,
     "user": {
      "displayName": "Mohamed Ramzy",
      "photoUrl": "https://lh3.googleusercontent.com/a/default-user=s128",
      "userId": "110230820219558545195"
     },
     "user_tz": -120
    },
    "id": "36JO0z5PsRPu",
    "outputId": "7cf15af0-d1c2-4ec9-9e0c-aa6cb3a3c8a2"
   },
   "outputs": [],
   "source": [
    "maxlen = 100\n",
    "\n",
    "X_train = pad_sequences(X_train , maxlen)\n",
    "X_test = pad_sequences(X_test , maxlen)"
   ]
  },
  {
   "cell_type": "code",
   "execution_count": 9,
   "metadata": {
    "colab": {
     "autoexec": {
      "startup": false,
      "wait_interval": 0
     },
     "base_uri": "https://localhost:8080/",
     "height": 37
    },
    "colab_type": "code",
    "executionInfo": {
     "elapsed": 468,
     "status": "ok",
     "timestamp": 1529965878817,
     "user": {
      "displayName": "Mohamed Ramzy",
      "photoUrl": "https://lh3.googleusercontent.com/a/default-user=s128",
      "userId": "110230820219558545195"
     },
     "user_tz": -120
    },
    "id": "Mm6bcQz6tvHt",
    "outputId": "e895c308-4111-48dc-db00-9b54b7e9f5f0"
   },
   "outputs": [],
   "source": [
    "word_index = tokenizer.word_index"
   ]
  },
  {
   "cell_type": "code",
   "execution_count": 10,
   "metadata": {
    "colab": {
     "autoexec": {
      "startup": false,
      "wait_interval": 0
     },
     "base_uri": "https://localhost:8080/",
     "height": 34
    },
    "colab_type": "code",
    "executionInfo": {
     "elapsed": 495,
     "status": "ok",
     "timestamp": 1529965879379,
     "user": {
      "displayName": "Mohamed Ramzy",
      "photoUrl": "https://lh3.googleusercontent.com/a/default-user=s128",
      "userId": "110230820219558545195"
     },
     "user_tz": -120
    },
    "id": "0yuUJsjluh3W",
    "outputId": "f424091f-7098-4769-b58f-300dcbcaecc8"
   },
   "outputs": [
    {
     "name": "stdout",
     "output_type": "stream",
     "text": [
      "394787\n"
     ]
    }
   ],
   "source": [
    "min_words = min(len(word_index) , num_vocab)\n",
    "print(min_words)"
   ]
  },
  {
   "cell_type": "code",
   "execution_count": 14,
   "metadata": {
    "colab": {
     "autoexec": {
      "startup": false,
      "wait_interval": 0
     },
     "base_uri": "https://localhost:8080/",
     "height": 37
    },
    "colab_type": "code",
    "executionInfo": {
     "elapsed": 2520,
     "status": "ok",
     "timestamp": 1529965892298,
     "user": {
      "displayName": "Mohamed Ramzy",
      "photoUrl": "https://lh3.googleusercontent.com/a/default-user=s128",
      "userId": "110230820219558545195"
     },
     "user_tz": -120
    },
    "id": "8qEW_W6b33RX",
    "outputId": "66d6c2d0-57d4-45c9-a658-588be82e6124"
   },
   "outputs": [],
   "source": [
    "embedding_matrix = np.random.randn(min_words , 100) * 0.001"
   ]
  },
  {
   "cell_type": "code",
   "execution_count": 15,
   "metadata": {
    "colab": {
     "autoexec": {
      "startup": false,
      "wait_interval": 0
     },
     "base_uri": "https://localhost:8080/",
     "height": 37
    },
    "colab_type": "code",
    "executionInfo": {
     "elapsed": 3144,
     "status": "ok",
     "timestamp": 1529965896015,
     "user": {
      "displayName": "Mohamed Ramzy",
      "photoUrl": "https://lh3.googleusercontent.com/a/default-user=s128",
      "userId": "110230820219558545195"
     },
     "user_tz": -120
    },
    "id": "ofhKcPwc4DGk",
    "outputId": "8ad495ca-372c-49fe-c6c6-18fdb874f333"
   },
   "outputs": [],
   "source": [
    "added_words = 0\n",
    "for word , i in word_index.items():\n",
    "      if i >= min_words:\n",
    "        continue\n",
    "    vector = word_to_vec.get(word)\n",
    "    if vector:\n",
    "        added_words+=1\n",
    "        embedding_matrix[i] = vector"
   ]
  },
  {
   "cell_type": "code",
   "execution_count": 16,
   "metadata": {
    "colab": {
     "autoexec": {
      "startup": false,
      "wait_interval": 0
     },
     "base_uri": "https://localhost:8080/",
     "height": 34
    },
    "colab_type": "code",
    "executionInfo": {
     "elapsed": 961,
     "status": "ok",
     "timestamp": 1529965897705,
     "user": {
      "displayName": "Mohamed Ramzy",
      "photoUrl": "https://lh3.googleusercontent.com/a/default-user=s128",
      "userId": "110230820219558545195"
     },
     "user_tz": -120
    },
    "id": "3dbFwzVzDPK7",
    "outputId": "3b98548d-c575-4069-eabd-5ed7e517aa07"
   },
   "outputs": [
    {
     "data": {
      "text/plain": [
       "130494"
      ]
     },
     "execution_count": 16,
     "metadata": {
      "tags": []
     },
     "output_type": "execute_result"
    }
   ],
   "source": [
    "added_words"
   ]
  },
  {
   "cell_type": "code",
   "execution_count": 17,
   "metadata": {
    "colab": {
     "autoexec": {
      "startup": false,
      "wait_interval": 0
     },
     "base_uri": "https://localhost:8080/",
     "height": 71
    },
    "colab_type": "code",
    "executionInfo": {
     "elapsed": 876,
     "status": "ok",
     "timestamp": 1529965899135,
     "user": {
      "displayName": "Mohamed Ramzy",
      "photoUrl": "https://lh3.googleusercontent.com/a/default-user=s128",
      "userId": "110230820219558545195"
     },
     "user_tz": -120
    },
    "id": "RzD8_Nr34Xhz",
    "outputId": "478c50a5-0f0f-4bd1-adab-8a7f7edfd74b"
   },
   "outputs": [
    {
     "name": "stderr",
     "output_type": "stream",
     "text": [
      "/usr/local/lib/python3.6/dist-packages/sklearn/model_selection/_split.py:2026: FutureWarning: From version 0.21, test_size will always complement train_size unless both are specified.\n",
      "  FutureWarning)\n"
     ]
    }
   ],
   "source": [
    "X_train , X_val , y_train , y_val = train_test_split(X_train , y_train , train_size = 0.95 , random_state = 0)"
   ]
  },
  {
   "cell_type": "code",
   "execution_count": 18,
   "metadata": {
    "colab": {
     "autoexec": {
      "startup": false,
      "wait_interval": 0
     },
     "base_uri": "https://localhost:8080/",
     "height": 37
    },
    "colab_type": "code",
    "executionInfo": {
     "elapsed": 914,
     "status": "ok",
     "timestamp": 1529965900350,
     "user": {
      "displayName": "Mohamed Ramzy",
      "photoUrl": "https://lh3.googleusercontent.com/a/default-user=s128",
      "userId": "110230820219558545195"
     },
     "user_tz": -120
    },
    "id": "2_w6DVcA4_ZB",
    "outputId": "ac5c5824-e193-4c56-8b1d-8b5a8f79067b"
   },
   "outputs": [],
   "source": [
    "class RocEval(Callback):\n",
    "    def __init__(self , validation_data = () , interval = 1):\n",
    "        super(Callback , self).__init__()\n",
    "        self.interval = interval\n",
    "        self.X_val , self.y_val = validation_data\n",
    "    \n",
    "    def on_epoch_end(self , epoch , logs = {}):\n",
    "        y_pred = self.model.predict(self.X_val, verbose=0)\n",
    "        score = roc_auc_score(self.y_val, y_pred)\n",
    "        print(\"\\n ROC-AUC - epoch: %d - score: %.6f \\n\" % (epoch+1, score))"
   ]
  },
  {
   "cell_type": "code",
   "execution_count": 19,
   "metadata": {
    "colab": {
     "autoexec": {
      "startup": false,
      "wait_interval": 0
     },
     "base_uri": "https://localhost:8080/",
     "height": 37
    },
    "colab_type": "code",
    "executionInfo": {
     "elapsed": 5268,
     "status": "ok",
     "timestamp": 1529965906112,
     "user": {
      "displayName": "Mohamed Ramzy",
      "photoUrl": "https://lh3.googleusercontent.com/a/default-user=s128",
      "userId": "110230820219558545195"
     },
     "user_tz": -120
    },
    "id": "KaexyF7lpQqD",
    "outputId": "8544f0cc-4df8-4c8a-b5ed-72f2b10df294"
   },
   "outputs": [],
   "source": [
    "del tokenizer\n",
    "del word_to_vec"
   ]
  },
  {
   "cell_type": "code",
   "execution_count": 45,
   "metadata": {
    "colab": {
     "autoexec": {
      "startup": false,
      "wait_interval": 0
     },
     "base_uri": "https://localhost:8080/",
     "height": 37
    },
    "colab_type": "code",
    "executionInfo": {
     "elapsed": 847,
     "status": "ok",
     "timestamp": 1529967531931,
     "user": {
      "displayName": "Mohamed Ramzy",
      "photoUrl": "https://lh3.googleusercontent.com/a/default-user=s128",
      "userId": "110230820219558545195"
     },
     "user_tz": -120
    },
    "id": "7ZklnFw65wbm",
    "outputId": "aab597af-5e50-405c-cfef-b13608dfc45c"
   },
   "outputs": [],
   "source": [
    "def model(input_shape):\n",
    "    inp = k.layers.Input(shape = input_shape)\n",
    "    X = k.layers.Embedding(input_dim = min_words , output_dim = 100 , weights = [embedding_matrix])(inp)\n",
    "    X = k.layers.SpatialDropout1D(0.25)(X)\n",
    "    X = Bidirectional(GRU(50 , return_sequences = False , recurrent_dropout = 0.25))(X)\n",
    "    X = k.layers.Dense(6 , activation = 'sigmoid')(X)\n",
    "  \n",
    "    return k.Model(inputs = inp , outputs = X)\n",
    "  "
   ]
  },
  {
   "cell_type": "code",
   "execution_count": 48,
   "metadata": {
    "colab": {
     "autoexec": {
      "startup": false,
      "wait_interval": 0
     },
     "base_uri": "https://localhost:8080/",
     "height": 37
    },
    "colab_type": "code",
    "executionInfo": {
     "elapsed": 1914,
     "status": "ok",
     "timestamp": 1529967636159,
     "user": {
      "displayName": "Mohamed Ramzy",
      "photoUrl": "https://lh3.googleusercontent.com/a/default-user=s128",
      "userId": "110230820219558545195"
     },
     "user_tz": -120
    },
    "id": "EKoxjRAT-1Ay",
    "outputId": "7f84f878-338c-419c-8e28-a402fc17f13d"
   },
   "outputs": [],
   "source": [
    "toxic_model = model((100,))"
   ]
  },
  {
   "cell_type": "code",
   "execution_count": 49,
   "metadata": {
    "colab": {
     "autoexec": {
      "startup": false,
      "wait_interval": 0
     },
     "base_uri": "https://localhost:8080/",
     "height": 306
    },
    "colab_type": "code",
    "executionInfo": {
     "elapsed": 477,
     "status": "ok",
     "timestamp": 1529967636722,
     "user": {
      "displayName": "Mohamed Ramzy",
      "photoUrl": "https://lh3.googleusercontent.com/a/default-user=s128",
      "userId": "110230820219558545195"
     },
     "user_tz": -120
    },
    "id": "aCdpv8CD-4KD",
    "outputId": "d6006103-6927-41e6-dcc3-1906a41c7e2b"
   },
   "outputs": [
    {
     "name": "stdout",
     "output_type": "stream",
     "text": [
      "_________________________________________________________________\n",
      "Layer (type)                 Output Shape              Param #   \n",
      "=================================================================\n",
      "input_6 (InputLayer)         (None, 100)               0         \n",
      "_________________________________________________________________\n",
      "embedding_6 (Embedding)      (None, 100, 100)          39478700  \n",
      "_________________________________________________________________\n",
      "spatial_dropout1d_2 (Spatial (None, 100, 100)          0         \n",
      "_________________________________________________________________\n",
      "bidirectional_6 (Bidirection (None, 100)               45300     \n",
      "_________________________________________________________________\n",
      "dense_4 (Dense)              (None, 6)                 606       \n",
      "=================================================================\n",
      "Total params: 39,524,606\n",
      "Trainable params: 39,524,606\n",
      "Non-trainable params: 0\n",
      "_________________________________________________________________\n"
     ]
    }
   ],
   "source": [
    "toxic_model.summary()"
   ]
  },
  {
   "cell_type": "code",
   "execution_count": 50,
   "metadata": {
    "colab": {
     "autoexec": {
      "startup": false,
      "wait_interval": 0
     },
     "base_uri": "https://localhost:8080/",
     "height": 37
    },
    "colab_type": "code",
    "executionInfo": {
     "elapsed": 1832,
     "status": "ok",
     "timestamp": 1529967645311,
     "user": {
      "displayName": "Mohamed Ramzy",
      "photoUrl": "https://lh3.googleusercontent.com/a/default-user=s128",
      "userId": "110230820219558545195"
     },
     "user_tz": -120
    },
    "id": "Y0eZ2YKQ-5p9",
    "outputId": "3796d7c2-a913-483f-e526-7d370917deb1"
   },
   "outputs": [],
   "source": [
    "toxic_model.compile(optimizer = 'rmsprop' , loss = 'binary_crossentropy' , metrics = ['accuracy'])"
   ]
  },
  {
   "cell_type": "code",
   "execution_count": 51,
   "metadata": {
    "colab": {
     "autoexec": {
      "startup": false,
      "wait_interval": 0
     },
     "base_uri": "https://localhost:8080/",
     "height": 37
    },
    "colab_type": "code",
    "executionInfo": {
     "elapsed": 1052,
     "status": "ok",
     "timestamp": 1529967647274,
     "user": {
      "displayName": "Mohamed Ramzy",
      "photoUrl": "https://lh3.googleusercontent.com/a/default-user=s128",
      "userId": "110230820219558545195"
     },
     "user_tz": -120
    },
    "id": "YjWfbasYOfla",
    "outputId": "8a1ebd13-ef6d-47b6-a7ba-17b32c242cd6"
   },
   "outputs": [],
   "source": [
    "RocAuc = RocEval(validation_data=(X_val, y_val), interval=1)"
   ]
  },
  {
   "cell_type": "code",
   "execution_count": 52,
   "metadata": {
    "colab": {
     "autoexec": {
      "startup": false,
      "wait_interval": 0
     },
     "base_uri": "https://localhost:8080/",
     "height": 37
    },
    "colab_type": "code",
    "executionInfo": {
     "elapsed": 482,
     "status": "ok",
     "timestamp": 1529967647847,
     "user": {
      "displayName": "Mohamed Ramzy",
      "photoUrl": "https://lh3.googleusercontent.com/a/default-user=s128",
      "userId": "110230820219558545195"
     },
     "user_tz": -120
    },
    "id": "jluwEUrOP8jc",
    "outputId": "5a312692-2eba-44a2-e4b5-2fae6e7eb6ac"
   },
   "outputs": [],
   "source": [
    "def Roc_score(y_true , y_pred):\n",
    "  return roc_auc_score(y_true , y_pred)"
   ]
  },
  {
   "cell_type": "code",
   "execution_count": 53,
   "metadata": {
    "colab": {
     "autoexec": {
      "startup": false,
      "wait_interval": 0
     },
     "base_uri": "https://localhost:8080/",
     "height": 37
    },
    "colab_type": "code",
    "executionInfo": {
     "elapsed": 569,
     "status": "ok",
     "timestamp": 1529967648486,
     "user": {
      "displayName": "Mohamed Ramzy",
      "photoUrl": "https://lh3.googleusercontent.com/a/default-user=s128",
      "userId": "110230820219558545195"
     },
     "user_tz": -120
    },
    "id": "uQU3dHpeGdnd",
    "outputId": "c49ceed1-d29e-4039-b5b4-661dd53be8a7"
   },
   "outputs": [],
   "source": [
    "saver = k.callbacks.ModelCheckpoint(\"my_model.h5\", monitor='val_loss', verbose=2, save_best_only=True)"
   ]
  },
  {
   "cell_type": "code",
   "execution_count": 54,
   "metadata": {
    "colab": {
     "autoexec": {
      "startup": false,
      "wait_interval": 0
     },
     "base_uri": "https://localhost:8080/",
     "height": 2036
    },
    "colab_type": "code",
    "executionInfo": {
     "elapsed": 759125,
     "status": "error",
     "timestamp": 1529968408866,
     "user": {
      "displayName": "Mohamed Ramzy",
      "photoUrl": "https://lh3.googleusercontent.com/a/default-user=s128",
      "userId": "110230820219558545195"
     },
     "user_tz": -120
    },
    "id": "g5liOYs5O0BU",
    "outputId": "f7613cc5-3c1f-40a3-bbe5-b404e6da3e0e"
   },
   "outputs": [
    {
     "name": "stdout",
     "output_type": "stream",
     "text": [
      "Train on 151592 samples, validate on 7979 samples\n",
      "Epoch 1/10\n",
      "151592/151592 [==============================] - 88s 581us/step - loss: 0.1267 - acc: 0.9631 - val_loss: 0.0569 - val_acc: 0.9811\n",
      "\n",
      " ROC-AUC - epoch: 1 - score: 0.963825 \n",
      "\n",
      "\n",
      "Epoch 00001: val_loss improved from inf to 0.05689, saving model to my_model.h5\n",
      "Epoch 2/10\n",
      "151592/151592 [==============================] - 84s 557us/step - loss: 0.0566 - acc: 0.9802 - val_loss: 0.0462 - val_acc: 0.9826\n",
      "\n",
      " ROC-AUC - epoch: 2 - score: 0.978510 \n",
      "\n",
      "\n",
      "Epoch 00002: val_loss improved from 0.05689 to 0.04623, saving model to my_model.h5\n",
      "Epoch 3/10\n",
      " 22528/151592 [===>..........................] - ETA: 1:09 - loss: 0.0495 - acc: 0.9815151592/151592 [==============================] - 82s 544us/step - loss: 0.0496 - acc: 0.9819 - val_loss: 0.0436 - val_acc: 0.9836\n",
      "\n",
      " ROC-AUC - epoch: 3 - score: 0.982313 \n",
      "\n",
      "\n",
      "Epoch 00003: val_loss improved from 0.04623 to 0.04356, saving model to my_model.h5\n",
      "Epoch 4/10\n",
      "151592/151592 [==============================] - 82s 541us/step - loss: 0.0461 - acc: 0.9826 - val_loss: 0.0422 - val_acc: 0.9840\n",
      "\n",
      " ROC-AUC - epoch: 4 - score: 0.984541 \n",
      "\n",
      "\n",
      "Epoch 00004: val_loss improved from 0.04356 to 0.04216, saving model to my_model.h5\n",
      "Epoch 5/10\n",
      " 56320/151592 [==========>...................] - ETA: 50s - loss: 0.0446 - acc: 0.9832151592/151592 [==============================] - 83s 545us/step - loss: 0.0440 - acc: 0.9833 - val_loss: 0.0411 - val_acc: 0.9841\n",
      "\n",
      " ROC-AUC - epoch: 5 - score: 0.986245 \n",
      "\n",
      "\n",
      "Epoch 00005: val_loss improved from 0.04216 to 0.04111, saving model to my_model.h5\n",
      "Epoch 6/10\n",
      "151592/151592 [==============================] - 82s 540us/step - loss: 0.0420 - acc: 0.9839 - val_loss: 0.0405 - val_acc: 0.9845\n",
      "\n",
      " ROC-AUC - epoch: 6 - score: 0.986953 \n",
      "\n",
      "\n",
      "Epoch 00006: val_loss improved from 0.04111 to 0.04048, saving model to my_model.h5\n",
      "Epoch 7/10\n",
      " 61440/151592 [===========>..................] - ETA: 47s - loss: 0.0407 - acc: 0.9843121856/151592 [=======================>......] - ETA: 15s - loss: 0.0404 - acc: 0.9843"
     ]
    },
    {
     "ename": "KeyboardInterrupt",
     "evalue": "ignored",
     "output_type": "error",
     "traceback": [
      "\u001b[0;31m---------------------------------------------------------------------------\u001b[0m",
      "\u001b[0;31mKeyboardInterrupt\u001b[0m                         Traceback (most recent call last)",
      "\u001b[0;32m<ipython-input-54-b46940f7cf4b>\u001b[0m in \u001b[0;36m<module>\u001b[0;34m()\u001b[0m\n\u001b[1;32m      1\u001b[0m toxic_model.fit(X_train, y_train, batch_size=1024, epochs=10, validation_data=(X_val, y_val),\n\u001b[0;32m----> 2\u001b[0;31m                  callbacks=[RocAuc , saver])\n\u001b[0m",
      "\u001b[0;32m/usr/local/lib/python3.6/dist-packages/keras/engine/training.py\u001b[0m in \u001b[0;36mfit\u001b[0;34m(self, x, y, batch_size, epochs, verbose, callbacks, validation_split, validation_data, shuffle, class_weight, sample_weight, initial_epoch, steps_per_epoch, validation_steps, **kwargs)\u001b[0m\n\u001b[1;32m   1703\u001b[0m                               \u001b[0minitial_epoch\u001b[0m\u001b[0;34m=\u001b[0m\u001b[0minitial_epoch\u001b[0m\u001b[0;34m,\u001b[0m\u001b[0;34m\u001b[0m\u001b[0m\n\u001b[1;32m   1704\u001b[0m                               \u001b[0msteps_per_epoch\u001b[0m\u001b[0;34m=\u001b[0m\u001b[0msteps_per_epoch\u001b[0m\u001b[0;34m,\u001b[0m\u001b[0;34m\u001b[0m\u001b[0m\n\u001b[0;32m-> 1705\u001b[0;31m                               validation_steps=validation_steps)\n\u001b[0m\u001b[1;32m   1706\u001b[0m \u001b[0;34m\u001b[0m\u001b[0m\n\u001b[1;32m   1707\u001b[0m     def evaluate(self, x=None, y=None,\n",
      "\u001b[0;32m/usr/local/lib/python3.6/dist-packages/keras/engine/training.py\u001b[0m in \u001b[0;36m_fit_loop\u001b[0;34m(self, f, ins, out_labels, batch_size, epochs, verbose, callbacks, val_f, val_ins, shuffle, callback_metrics, initial_epoch, steps_per_epoch, validation_steps)\u001b[0m\n\u001b[1;32m   1234\u001b[0m                         \u001b[0mins_batch\u001b[0m\u001b[0;34m[\u001b[0m\u001b[0mi\u001b[0m\u001b[0;34m]\u001b[0m \u001b[0;34m=\u001b[0m \u001b[0mins_batch\u001b[0m\u001b[0;34m[\u001b[0m\u001b[0mi\u001b[0m\u001b[0;34m]\u001b[0m\u001b[0;34m.\u001b[0m\u001b[0mtoarray\u001b[0m\u001b[0;34m(\u001b[0m\u001b[0;34m)\u001b[0m\u001b[0;34m\u001b[0m\u001b[0m\n\u001b[1;32m   1235\u001b[0m \u001b[0;34m\u001b[0m\u001b[0m\n\u001b[0;32m-> 1236\u001b[0;31m                     \u001b[0mouts\u001b[0m \u001b[0;34m=\u001b[0m \u001b[0mf\u001b[0m\u001b[0;34m(\u001b[0m\u001b[0mins_batch\u001b[0m\u001b[0;34m)\u001b[0m\u001b[0;34m\u001b[0m\u001b[0m\n\u001b[0m\u001b[1;32m   1237\u001b[0m                     \u001b[0;32mif\u001b[0m \u001b[0;32mnot\u001b[0m \u001b[0misinstance\u001b[0m\u001b[0;34m(\u001b[0m\u001b[0mouts\u001b[0m\u001b[0;34m,\u001b[0m \u001b[0mlist\u001b[0m\u001b[0;34m)\u001b[0m\u001b[0;34m:\u001b[0m\u001b[0;34m\u001b[0m\u001b[0m\n\u001b[1;32m   1238\u001b[0m                         \u001b[0mouts\u001b[0m \u001b[0;34m=\u001b[0m \u001b[0;34m[\u001b[0m\u001b[0mouts\u001b[0m\u001b[0;34m]\u001b[0m\u001b[0;34m\u001b[0m\u001b[0m\n",
      "\u001b[0;32m/usr/local/lib/python3.6/dist-packages/keras/backend/tensorflow_backend.py\u001b[0m in \u001b[0;36m__call__\u001b[0;34m(self, inputs)\u001b[0m\n\u001b[1;32m   2480\u001b[0m         \u001b[0msession\u001b[0m \u001b[0;34m=\u001b[0m \u001b[0mget_session\u001b[0m\u001b[0;34m(\u001b[0m\u001b[0;34m)\u001b[0m\u001b[0;34m\u001b[0m\u001b[0m\n\u001b[1;32m   2481\u001b[0m         updated = session.run(fetches=fetches, feed_dict=feed_dict,\n\u001b[0;32m-> 2482\u001b[0;31m                               **self.session_kwargs)\n\u001b[0m\u001b[1;32m   2483\u001b[0m         \u001b[0;32mreturn\u001b[0m \u001b[0mupdated\u001b[0m\u001b[0;34m[\u001b[0m\u001b[0;34m:\u001b[0m\u001b[0mlen\u001b[0m\u001b[0;34m(\u001b[0m\u001b[0mself\u001b[0m\u001b[0;34m.\u001b[0m\u001b[0moutputs\u001b[0m\u001b[0;34m)\u001b[0m\u001b[0;34m]\u001b[0m\u001b[0;34m\u001b[0m\u001b[0m\n\u001b[1;32m   2484\u001b[0m \u001b[0;34m\u001b[0m\u001b[0m\n",
      "\u001b[0;32m/usr/local/lib/python3.6/dist-packages/tensorflow/python/client/session.py\u001b[0m in \u001b[0;36mrun\u001b[0;34m(self, fetches, feed_dict, options, run_metadata)\u001b[0m\n\u001b[1;32m    898\u001b[0m     \u001b[0;32mtry\u001b[0m\u001b[0;34m:\u001b[0m\u001b[0;34m\u001b[0m\u001b[0m\n\u001b[1;32m    899\u001b[0m       result = self._run(None, fetches, feed_dict, options_ptr,\n\u001b[0;32m--> 900\u001b[0;31m                          run_metadata_ptr)\n\u001b[0m\u001b[1;32m    901\u001b[0m       \u001b[0;32mif\u001b[0m \u001b[0mrun_metadata\u001b[0m\u001b[0;34m:\u001b[0m\u001b[0;34m\u001b[0m\u001b[0m\n\u001b[1;32m    902\u001b[0m         \u001b[0mproto_data\u001b[0m \u001b[0;34m=\u001b[0m \u001b[0mtf_session\u001b[0m\u001b[0;34m.\u001b[0m\u001b[0mTF_GetBuffer\u001b[0m\u001b[0;34m(\u001b[0m\u001b[0mrun_metadata_ptr\u001b[0m\u001b[0;34m)\u001b[0m\u001b[0;34m\u001b[0m\u001b[0m\n",
      "\u001b[0;32m/usr/local/lib/python3.6/dist-packages/tensorflow/python/client/session.py\u001b[0m in \u001b[0;36m_run\u001b[0;34m(self, handle, fetches, feed_dict, options, run_metadata)\u001b[0m\n\u001b[1;32m   1133\u001b[0m     \u001b[0;32mif\u001b[0m \u001b[0mfinal_fetches\u001b[0m \u001b[0;32mor\u001b[0m \u001b[0mfinal_targets\u001b[0m \u001b[0;32mor\u001b[0m \u001b[0;34m(\u001b[0m\u001b[0mhandle\u001b[0m \u001b[0;32mand\u001b[0m \u001b[0mfeed_dict_tensor\u001b[0m\u001b[0;34m)\u001b[0m\u001b[0;34m:\u001b[0m\u001b[0;34m\u001b[0m\u001b[0m\n\u001b[1;32m   1134\u001b[0m       results = self._do_run(handle, final_targets, final_fetches,\n\u001b[0;32m-> 1135\u001b[0;31m                              feed_dict_tensor, options, run_metadata)\n\u001b[0m\u001b[1;32m   1136\u001b[0m     \u001b[0;32melse\u001b[0m\u001b[0;34m:\u001b[0m\u001b[0;34m\u001b[0m\u001b[0m\n\u001b[1;32m   1137\u001b[0m       \u001b[0mresults\u001b[0m \u001b[0;34m=\u001b[0m \u001b[0;34m[\u001b[0m\u001b[0;34m]\u001b[0m\u001b[0;34m\u001b[0m\u001b[0m\n",
      "\u001b[0;32m/usr/local/lib/python3.6/dist-packages/tensorflow/python/client/session.py\u001b[0m in \u001b[0;36m_do_run\u001b[0;34m(self, handle, target_list, fetch_list, feed_dict, options, run_metadata)\u001b[0m\n\u001b[1;32m   1314\u001b[0m     \u001b[0;32mif\u001b[0m \u001b[0mhandle\u001b[0m \u001b[0;32mis\u001b[0m \u001b[0;32mNone\u001b[0m\u001b[0;34m:\u001b[0m\u001b[0;34m\u001b[0m\u001b[0m\n\u001b[1;32m   1315\u001b[0m       return self._do_call(_run_fn, feeds, fetches, targets, options,\n\u001b[0;32m-> 1316\u001b[0;31m                            run_metadata)\n\u001b[0m\u001b[1;32m   1317\u001b[0m     \u001b[0;32melse\u001b[0m\u001b[0;34m:\u001b[0m\u001b[0;34m\u001b[0m\u001b[0m\n\u001b[1;32m   1318\u001b[0m       \u001b[0;32mreturn\u001b[0m \u001b[0mself\u001b[0m\u001b[0;34m.\u001b[0m\u001b[0m_do_call\u001b[0m\u001b[0;34m(\u001b[0m\u001b[0m_prun_fn\u001b[0m\u001b[0;34m,\u001b[0m \u001b[0mhandle\u001b[0m\u001b[0;34m,\u001b[0m \u001b[0mfeeds\u001b[0m\u001b[0;34m,\u001b[0m \u001b[0mfetches\u001b[0m\u001b[0;34m)\u001b[0m\u001b[0;34m\u001b[0m\u001b[0m\n",
      "\u001b[0;32m/usr/local/lib/python3.6/dist-packages/tensorflow/python/client/session.py\u001b[0m in \u001b[0;36m_do_call\u001b[0;34m(self, fn, *args)\u001b[0m\n\u001b[1;32m   1320\u001b[0m   \u001b[0;32mdef\u001b[0m \u001b[0m_do_call\u001b[0m\u001b[0;34m(\u001b[0m\u001b[0mself\u001b[0m\u001b[0;34m,\u001b[0m \u001b[0mfn\u001b[0m\u001b[0;34m,\u001b[0m \u001b[0;34m*\u001b[0m\u001b[0margs\u001b[0m\u001b[0;34m)\u001b[0m\u001b[0;34m:\u001b[0m\u001b[0;34m\u001b[0m\u001b[0m\n\u001b[1;32m   1321\u001b[0m     \u001b[0;32mtry\u001b[0m\u001b[0;34m:\u001b[0m\u001b[0;34m\u001b[0m\u001b[0m\n\u001b[0;32m-> 1322\u001b[0;31m       \u001b[0;32mreturn\u001b[0m \u001b[0mfn\u001b[0m\u001b[0;34m(\u001b[0m\u001b[0;34m*\u001b[0m\u001b[0margs\u001b[0m\u001b[0;34m)\u001b[0m\u001b[0;34m\u001b[0m\u001b[0m\n\u001b[0m\u001b[1;32m   1323\u001b[0m     \u001b[0;32mexcept\u001b[0m \u001b[0merrors\u001b[0m\u001b[0;34m.\u001b[0m\u001b[0mOpError\u001b[0m \u001b[0;32mas\u001b[0m \u001b[0me\u001b[0m\u001b[0;34m:\u001b[0m\u001b[0;34m\u001b[0m\u001b[0m\n\u001b[1;32m   1324\u001b[0m       \u001b[0mmessage\u001b[0m \u001b[0;34m=\u001b[0m \u001b[0mcompat\u001b[0m\u001b[0;34m.\u001b[0m\u001b[0mas_text\u001b[0m\u001b[0;34m(\u001b[0m\u001b[0me\u001b[0m\u001b[0;34m.\u001b[0m\u001b[0mmessage\u001b[0m\u001b[0;34m)\u001b[0m\u001b[0;34m\u001b[0m\u001b[0m\n",
      "\u001b[0;32m/usr/local/lib/python3.6/dist-packages/tensorflow/python/client/session.py\u001b[0m in \u001b[0;36m_run_fn\u001b[0;34m(feed_dict, fetch_list, target_list, options, run_metadata)\u001b[0m\n\u001b[1;32m   1305\u001b[0m       \u001b[0mself\u001b[0m\u001b[0;34m.\u001b[0m\u001b[0m_extend_graph\u001b[0m\u001b[0;34m(\u001b[0m\u001b[0;34m)\u001b[0m\u001b[0;34m\u001b[0m\u001b[0m\n\u001b[1;32m   1306\u001b[0m       return self._call_tf_sessionrun(\n\u001b[0;32m-> 1307\u001b[0;31m           options, feed_dict, fetch_list, target_list, run_metadata)\n\u001b[0m\u001b[1;32m   1308\u001b[0m \u001b[0;34m\u001b[0m\u001b[0m\n\u001b[1;32m   1309\u001b[0m     \u001b[0;32mdef\u001b[0m \u001b[0m_prun_fn\u001b[0m\u001b[0;34m(\u001b[0m\u001b[0mhandle\u001b[0m\u001b[0;34m,\u001b[0m \u001b[0mfeed_dict\u001b[0m\u001b[0;34m,\u001b[0m \u001b[0mfetch_list\u001b[0m\u001b[0;34m)\u001b[0m\u001b[0;34m:\u001b[0m\u001b[0;34m\u001b[0m\u001b[0m\n",
      "\u001b[0;32m/usr/local/lib/python3.6/dist-packages/tensorflow/python/client/session.py\u001b[0m in \u001b[0;36m_call_tf_sessionrun\u001b[0;34m(self, options, feed_dict, fetch_list, target_list, run_metadata)\u001b[0m\n\u001b[1;32m   1407\u001b[0m       return tf_session.TF_SessionRun_wrapper(\n\u001b[1;32m   1408\u001b[0m           \u001b[0mself\u001b[0m\u001b[0;34m.\u001b[0m\u001b[0m_session\u001b[0m\u001b[0;34m,\u001b[0m \u001b[0moptions\u001b[0m\u001b[0;34m,\u001b[0m \u001b[0mfeed_dict\u001b[0m\u001b[0;34m,\u001b[0m \u001b[0mfetch_list\u001b[0m\u001b[0;34m,\u001b[0m \u001b[0mtarget_list\u001b[0m\u001b[0;34m,\u001b[0m\u001b[0;34m\u001b[0m\u001b[0m\n\u001b[0;32m-> 1409\u001b[0;31m           run_metadata)\n\u001b[0m\u001b[1;32m   1410\u001b[0m     \u001b[0;32melse\u001b[0m\u001b[0;34m:\u001b[0m\u001b[0;34m\u001b[0m\u001b[0m\n\u001b[1;32m   1411\u001b[0m       \u001b[0;32mwith\u001b[0m \u001b[0merrors\u001b[0m\u001b[0;34m.\u001b[0m\u001b[0mraise_exception_on_not_ok_status\u001b[0m\u001b[0;34m(\u001b[0m\u001b[0;34m)\u001b[0m \u001b[0;32mas\u001b[0m \u001b[0mstatus\u001b[0m\u001b[0;34m:\u001b[0m\u001b[0;34m\u001b[0m\u001b[0m\n",
      "\u001b[0;31mKeyboardInterrupt\u001b[0m: "
     ]
    }
   ],
   "source": [
    "toxic_model.fit(X_train, y_train, batch_size=1024, epochs=10, validation_data=(X_val, y_val),\n",
    "                 callbacks=[RocAuc , saver])"
   ]
  },
  {
   "cell_type": "code",
   "execution_count": 51,
   "metadata": {
    "colab": {
     "autoexec": {
      "startup": false,
      "wait_interval": 0
     },
     "base_uri": "https://localhost:8080/",
     "height": 34
    },
    "colab_type": "code",
    "executionInfo": {
     "elapsed": 5458,
     "status": "ok",
     "timestamp": 1529959456924,
     "user": {
      "displayName": "Mohamed Ramzy",
      "photoUrl": "https://lh3.googleusercontent.com/a/default-user=s128",
      "userId": "110230820219558545195"
     },
     "user_tz": -120
    },
    "id": "-Qzt1CS2PmhJ",
    "outputId": "8fff36b7-01d4-4093-93cb-3863be23cc03"
   },
   "outputs": [
    {
     "name": "stdout",
     "output_type": "stream",
     "text": [
      "153164/153164 [==============================] - 5s 31us/step\n"
     ]
    }
   ],
   "source": [
    "prediction1 = toxic_model.predict(X_test , batch_size = 1024 , verbose = 1)"
   ]
  },
  {
   "cell_type": "code",
   "execution_count": null,
   "metadata": {},
   "outputs": [],
   "source": [
    "best_model = load_model(\"my_model.h5\")\n",
    "prediction2 = best_model.predict(X_test , batch_size = 1024 , verbose = 1)"
   ]
  },
  {
   "cell_type": "code",
   "execution_count": 85,
   "metadata": {
    "colab": {
     "autoexec": {
      "startup": false,
      "wait_interval": 0
     },
     "base_uri": "https://localhost:8080/",
     "height": 37
    },
    "colab_type": "code",
    "executionInfo": {
     "elapsed": 842,
     "status": "ok",
     "timestamp": 1529877081612,
     "user": {
      "displayName": "Mohamed Ramzy",
      "photoUrl": "https://lh3.googleusercontent.com/a/default-user=s128",
      "userId": "110230820219558545195"
     },
     "user_tz": -120
    },
    "id": "sFejhwxwJ1Tg",
    "outputId": "7b781744-ec35-4939-fc27-5ec5f4b75632"
   },
   "outputs": [],
   "source": [
    "prediction = (prediction1 + prediction2) / 2"
   ]
  },
  {
   "cell_type": "code",
   "execution_count": null,
   "metadata": {},
   "outputs": [],
   "source": [
    "prediction = prediction.argmax(1)"
   ]
  },
  {
   "cell_type": "code",
   "execution_count": 52,
   "metadata": {
    "colab": {
     "autoexec": {
      "startup": false,
      "wait_interval": 0
     },
     "base_uri": "https://localhost:8080/",
     "height": 17
    },
    "colab_type": "code",
    "executionInfo": {
     "elapsed": 2746,
     "status": "ok",
     "timestamp": 1529959460928,
     "user": {
      "displayName": "Mohamed Ramzy",
      "photoUrl": "https://lh3.googleusercontent.com/a/default-user=s128",
      "userId": "110230820219558545195"
     },
     "user_tz": -120
    },
    "id": "nhhXlIOrZDSV",
    "outputId": "3ad7ff8f-8dd1-4480-ec73-6556b44603ca"
   },
   "outputs": [],
   "source": [
    "submission[[\"toxic\", \"severe_toxic\", \"obscene\", \"threat\", \"insult\", \"identity_hate\"]] = prediction\n",
    "submission.to_csv(\"submission.csv\" , index = False)"
   ]
  },
  {
   "cell_type": "code",
   "execution_count": 0,
   "metadata": {
    "colab": {
     "autoexec": {
      "startup": false,
      "wait_interval": 0
     }
    },
    "colab_type": "code",
    "id": "sSR7WSAjYw4B"
   },
   "outputs": [],
   "source": []
  }
 ],
 "metadata": {
  "colab": {
   "collapsed_sections": [],
   "default_view": {},
   "name": "Toxic comments.ipynb",
   "provenance": [],
   "version": "0.3.2",
   "views": {}
  },
  "kernelspec": {
   "display_name": "Python 3",
   "language": "python",
   "name": "python3"
  },
  "language_info": {
   "codemirror_mode": {
    "name": "ipython",
    "version": 3
   },
   "file_extension": ".py",
   "mimetype": "text/x-python",
   "name": "python",
   "nbconvert_exporter": "python",
   "pygments_lexer": "ipython3",
   "version": "3.6.4"
  }
 },
 "nbformat": 4,
 "nbformat_minor": 1
}
