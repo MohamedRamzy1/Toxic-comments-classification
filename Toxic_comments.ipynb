{
 "cells": [
  {
   "cell_type": "code",
   "execution_count": null,
   "metadata": {
    "colab": {
     "autoexec": {
      "startup": false,
      "wait_interval": 0
     },
     "base_uri": "https://localhost:8080/",
     "height": 17
    },
    "colab_type": "code",
    "executionInfo": {
     "elapsed": 1058,
     "status": "ok",
     "timestamp": 1529969916328,
     "user": {
      "displayName": "Mohamed Ramzy",
      "photoUrl": "https://lh3.googleusercontent.com/a/default-user=s128",
      "userId": "110230820219558545195"
     },
     "user_tz": -120
    },
    "id": "ny9UB_gUZFWT",
    "outputId": "1113403a-de13-4132-f0b0-39bfbd6c8c62"
   },
   "outputs": [],
   "source": [
    "import keras as k\n",
    "from keras.preprocessing.text import Tokenizer\n",
    "from keras.preprocessing.sequence import pad_sequences\n",
    "from keras.layers import CuDNNGRU , CuDNNLSTM , Bidirectional , GRU\n",
    "import numpy as np\n",
    "import pandas as pd\n",
    "import re\n",
    "from sklearn.model_selection import train_test_split\n",
    "from sklearn.metrics import roc_auc_score\n",
    "from keras.callbacks import Callback"
   ]
  },
  {
   "cell_type": "code",
   "execution_count": null,
   "metadata": {
    "colab": {
     "autoexec": {
      "startup": false,
      "wait_interval": 0
     },
     "base_uri": "https://localhost:8080/",
     "height": 34
    },
    "colab_type": "code",
    "executionInfo": {
     "elapsed": 36970,
     "status": "ok",
     "timestamp": 1529965773715,
     "user": {
      "displayName": "Mohamed Ramzy",
      "photoUrl": "https://lh3.googleusercontent.com/a/default-user=s128",
      "userId": "110230820219558545195"
     },
     "user_tz": -120
    },
    "id": "Nu0sdD7keS09",
    "outputId": "f9c2f156-e231-49de-8310-c055d154e9ff"
   },
   "outputs": [],
   "source": [
    "file = open(\"glove.twitter.27B.100d.txt\")\n",
    "num_vocab = 0\n",
    "word_to_vec = {}\n",
    "for line in file.readlines():\n",
    "  \n",
    "    row = line.strip().split(' ')\n",
    "    word = row[0]\n",
    "    vec = row[1:] \n",
    "    num_vocab += 1\n",
    "    word_to_vec[word] = vec\n",
    "      \n",
    "print(\"Glove preprocessed\")\n",
    "\n",
    "file.close()"
   ]
  },
  {
   "cell_type": "code",
   "execution_count": null,
   "metadata": {
    "colab": {
     "autoexec": {
      "startup": false,
      "wait_interval": 0
     },
     "base_uri": "https://localhost:8080/",
     "height": 37
    },
    "colab_type": "code",
    "executionInfo": {
     "elapsed": 2461,
     "status": "ok",
     "timestamp": 1529965823561,
     "user": {
      "displayName": "Mohamed Ramzy",
      "photoUrl": "https://lh3.googleusercontent.com/a/default-user=s128",
      "userId": "110230820219558545195"
     },
     "user_tz": -120
    },
    "id": "VmGuW8ajmlle",
    "outputId": "f9434122-5eef-407f-fc75-84dec83704c0"
   },
   "outputs": [],
   "source": [
    "train = pd.read_csv(\"train.csv\")\n",
    "test = pd.read_csv(\"test.csv\")\n",
    "submission = pd.read_csv(\"sample_submission.csv\")"
   ]
  },
  {
   "cell_type": "code",
   "execution_count": null,
   "metadata": {
    "colab": {
     "autoexec": {
      "startup": false,
      "wait_interval": 0
     },
     "base_uri": "https://localhost:8080/",
     "height": 37
    },
    "colab_type": "code",
    "executionInfo": {
     "elapsed": 1092,
     "status": "ok",
     "timestamp": 1529965826187,
     "user": {
      "displayName": "Mohamed Ramzy",
      "photoUrl": "https://lh3.googleusercontent.com/a/default-user=s128",
      "userId": "110230820219558545195"
     },
     "user_tz": -120
    },
    "id": "Tr7pVcgPmtTG",
    "outputId": "2f7bf418-19c4-42a7-c048-e09e54ff1783"
   },
   "outputs": [],
   "source": [
    "X_train = train[\"comment_text\"].fillna(\"Nothing\").values\n",
    "y_train = train[[\"toxic\", \"severe_toxic\", \"obscene\", \"threat\", \"insult\", \"identity_hate\"]].values\n",
    "X_test = test[\"comment_text\"].fillna(\"Nothing\").values\n"
   ]
  },
  {
   "cell_type": "code",
   "execution_count": null,
   "metadata": {
    "colab": {
     "autoexec": {
      "startup": false,
      "wait_interval": 0
     },
     "base_uri": "https://localhost:8080/",
     "height": 37
    },
    "colab_type": "code",
    "executionInfo": {
     "elapsed": 941,
     "status": "ok",
     "timestamp": 1529965827213,
     "user": {
      "displayName": "Mohamed Ramzy",
      "photoUrl": "https://lh3.googleusercontent.com/a/default-user=s128",
      "userId": "110230820219558545195"
     },
     "user_tz": -120
    },
    "id": "2gnib2xun1BO",
    "outputId": "67543e0d-b117-4544-8118-c2f1c84dfaab"
   },
   "outputs": [],
   "source": [
    "tokenizer = Tokenizer(num_words = num_vocab)"
   ]
  },
  {
   "cell_type": "code",
   "execution_count": null,
   "metadata": {
    "colab": {
     "autoexec": {
      "startup": false,
      "wait_interval": 0
     },
     "base_uri": "https://localhost:8080/",
     "height": 37
    },
    "colab_type": "code",
    "executionInfo": {
     "elapsed": 25116,
     "status": "ok",
     "timestamp": 1529965852416,
     "user": {
      "displayName": "Mohamed Ramzy",
      "photoUrl": "https://lh3.googleusercontent.com/a/default-user=s128",
      "userId": "110230820219558545195"
     },
     "user_tz": -120
    },
    "id": "XUC7U3aMqDPe",
    "outputId": "a850e334-064f-4f19-b9e9-ab47947fb566"
   },
   "outputs": [],
   "source": [
    "tokenizer.fit_on_texts(list(X_train) + list(X_test))"
   ]
  },
  {
   "cell_type": "code",
   "execution_count": null,
   "metadata": {
    "colab": {
     "autoexec": {
      "startup": false,
      "wait_interval": 0
     },
     "base_uri": "https://localhost:8080/",
     "height": 37
    },
    "colab_type": "code",
    "executionInfo": {
     "elapsed": 22235,
     "status": "ok",
     "timestamp": 1529965874796,
     "user": {
      "displayName": "Mohamed Ramzy",
      "photoUrl": "https://lh3.googleusercontent.com/a/default-user=s128",
      "userId": "110230820219558545195"
     },
     "user_tz": -120
    },
    "id": "AzDTAyAxq12I",
    "outputId": "6ae3c2d1-f6ac-4357-8ddf-59cedfd7ddb7"
   },
   "outputs": [],
   "source": [
    "X_train = tokenizer.texts_to_sequences(X_train)\n",
    "X_test = tokenizer.texts_to_sequences(X_test)"
   ]
  },
  {
   "cell_type": "code",
   "execution_count": null,
   "metadata": {
    "colab": {
     "autoexec": {
      "startup": false,
      "wait_interval": 0
     },
     "base_uri": "https://localhost:8080/",
     "height": 37
    },
    "colab_type": "code",
    "executionInfo": {
     "elapsed": 3356,
     "status": "ok",
     "timestamp": 1529965878273,
     "user": {
      "displayName": "Mohamed Ramzy",
      "photoUrl": "https://lh3.googleusercontent.com/a/default-user=s128",
      "userId": "110230820219558545195"
     },
     "user_tz": -120
    },
    "id": "36JO0z5PsRPu",
    "outputId": "7cf15af0-d1c2-4ec9-9e0c-aa6cb3a3c8a2"
   },
   "outputs": [],
   "source": [
    "maxlen = 100\n",
    "\n",
    "X_train = pad_sequences(X_train , maxlen)\n",
    "X_test = pad_sequences(X_test , maxlen)"
   ]
  },
  {
   "cell_type": "code",
   "execution_count": null,
   "metadata": {
    "colab": {
     "autoexec": {
      "startup": false,
      "wait_interval": 0
     },
     "base_uri": "https://localhost:8080/",
     "height": 37
    },
    "colab_type": "code",
    "executionInfo": {
     "elapsed": 468,
     "status": "ok",
     "timestamp": 1529965878817,
     "user": {
      "displayName": "Mohamed Ramzy",
      "photoUrl": "https://lh3.googleusercontent.com/a/default-user=s128",
      "userId": "110230820219558545195"
     },
     "user_tz": -120
    },
    "id": "Mm6bcQz6tvHt",
    "outputId": "e895c308-4111-48dc-db00-9b54b7e9f5f0"
   },
   "outputs": [],
   "source": [
    "word_index = tokenizer.word_index"
   ]
  },
  {
   "cell_type": "code",
   "execution_count": null,
   "metadata": {
    "colab": {
     "autoexec": {
      "startup": false,
      "wait_interval": 0
     },
     "base_uri": "https://localhost:8080/",
     "height": 34
    },
    "colab_type": "code",
    "executionInfo": {
     "elapsed": 495,
     "status": "ok",
     "timestamp": 1529965879379,
     "user": {
      "displayName": "Mohamed Ramzy",
      "photoUrl": "https://lh3.googleusercontent.com/a/default-user=s128",
      "userId": "110230820219558545195"
     },
     "user_tz": -120
    },
    "id": "0yuUJsjluh3W",
    "outputId": "f424091f-7098-4769-b58f-300dcbcaecc8"
   },
   "outputs": [],
   "source": [
    "min_words = min(len(word_index) , num_vocab)\n",
    "print(min_words)"
   ]
  },
  {
   "cell_type": "code",
   "execution_count": null,
   "metadata": {
    "colab": {
     "autoexec": {
      "startup": false,
      "wait_interval": 0
     },
     "base_uri": "https://localhost:8080/",
     "height": 37
    },
    "colab_type": "code",
    "executionInfo": {
     "elapsed": 2520,
     "status": "ok",
     "timestamp": 1529965892298,
     "user": {
      "displayName": "Mohamed Ramzy",
      "photoUrl": "https://lh3.googleusercontent.com/a/default-user=s128",
      "userId": "110230820219558545195"
     },
     "user_tz": -120
    },
    "id": "8qEW_W6b33RX",
    "outputId": "66d6c2d0-57d4-45c9-a658-588be82e6124"
   },
   "outputs": [],
   "source": [
    "embedding_matrix = np.random.randn(min_words , 100) * 0.001"
   ]
  },
  {
   "cell_type": "code",
   "execution_count": null,
   "metadata": {
    "colab": {
     "autoexec": {
      "startup": false,
      "wait_interval": 0
     },
     "base_uri": "https://localhost:8080/",
     "height": 37
    },
    "colab_type": "code",
    "executionInfo": {
     "elapsed": 3144,
     "status": "ok",
     "timestamp": 1529965896015,
     "user": {
      "displayName": "Mohamed Ramzy",
      "photoUrl": "https://lh3.googleusercontent.com/a/default-user=s128",
      "userId": "110230820219558545195"
     },
     "user_tz": -120
    },
    "id": "ofhKcPwc4DGk",
    "outputId": "8ad495ca-372c-49fe-c6c6-18fdb874f333"
   },
   "outputs": [],
   "source": [
    "added_words = 0\n",
    "for word , i in word_index.items():\n",
    "      if i >= min_words:\n",
    "        continue\n",
    "    vector = word_to_vec.get(word)\n",
    "    if vector:\n",
    "        added_words+=1\n",
    "        embedding_matrix[i] = vector"
   ]
  },
  {
   "cell_type": "code",
   "execution_count": null,
   "metadata": {
    "colab": {
     "autoexec": {
      "startup": false,
      "wait_interval": 0
     },
     "base_uri": "https://localhost:8080/",
     "height": 34
    },
    "colab_type": "code",
    "executionInfo": {
     "elapsed": 961,
     "status": "ok",
     "timestamp": 1529965897705,
     "user": {
      "displayName": "Mohamed Ramzy",
      "photoUrl": "https://lh3.googleusercontent.com/a/default-user=s128",
      "userId": "110230820219558545195"
     },
     "user_tz": -120
    },
    "id": "3dbFwzVzDPK7",
    "outputId": "3b98548d-c575-4069-eabd-5ed7e517aa07"
   },
   "outputs": [],
   "source": [
    "added_words"
   ]
  },
  {
   "cell_type": "code",
   "execution_count": null,
   "metadata": {
    "colab": {
     "autoexec": {
      "startup": false,
      "wait_interval": 0
     },
     "base_uri": "https://localhost:8080/",
     "height": 71
    },
    "colab_type": "code",
    "executionInfo": {
     "elapsed": 876,
     "status": "ok",
     "timestamp": 1529965899135,
     "user": {
      "displayName": "Mohamed Ramzy",
      "photoUrl": "https://lh3.googleusercontent.com/a/default-user=s128",
      "userId": "110230820219558545195"
     },
     "user_tz": -120
    },
    "id": "RzD8_Nr34Xhz",
    "outputId": "478c50a5-0f0f-4bd1-adab-8a7f7edfd74b"
   },
   "outputs": [],
   "source": [
    "X_train , X_val , y_train , y_val = train_test_split(X_train , y_train , train_size = 0.95 , random_state = 0)"
   ]
  },
  {
   "cell_type": "code",
   "execution_count": null,
   "metadata": {
    "colab": {
     "autoexec": {
      "startup": false,
      "wait_interval": 0
     },
     "base_uri": "https://localhost:8080/",
     "height": 37
    },
    "colab_type": "code",
    "executionInfo": {
     "elapsed": 914,
     "status": "ok",
     "timestamp": 1529965900350,
     "user": {
      "displayName": "Mohamed Ramzy",
      "photoUrl": "https://lh3.googleusercontent.com/a/default-user=s128",
      "userId": "110230820219558545195"
     },
     "user_tz": -120
    },
    "id": "2_w6DVcA4_ZB",
    "outputId": "ac5c5824-e193-4c56-8b1d-8b5a8f79067b"
   },
   "outputs": [],
   "source": [
    "class RocEval(Callback):\n",
    "    def __init__(self , validation_data = () , interval = 1):\n",
    "        super(Callback , self).__init__()\n",
    "        self.interval = interval\n",
    "        self.X_val , self.y_val = validation_data\n",
    "    \n",
    "    def on_epoch_end(self , epoch , logs = {}):\n",
    "        y_pred = self.model.predict(self.X_val, verbose=0)\n",
    "        score = roc_auc_score(self.y_val, y_pred)\n",
    "        print(\"\\n ROC-AUC - epoch: %d - score: %.6f \\n\" % (epoch+1, score))"
   ]
  },
  {
   "cell_type": "code",
   "execution_count": null,
   "metadata": {
    "colab": {
     "autoexec": {
      "startup": false,
      "wait_interval": 0
     },
     "base_uri": "https://localhost:8080/",
     "height": 37
    },
    "colab_type": "code",
    "executionInfo": {
     "elapsed": 5268,
     "status": "ok",
     "timestamp": 1529965906112,
     "user": {
      "displayName": "Mohamed Ramzy",
      "photoUrl": "https://lh3.googleusercontent.com/a/default-user=s128",
      "userId": "110230820219558545195"
     },
     "user_tz": -120
    },
    "id": "KaexyF7lpQqD",
    "outputId": "8544f0cc-4df8-4c8a-b5ed-72f2b10df294"
   },
   "outputs": [],
   "source": [
    "del tokenizer\n",
    "del word_to_vec"
   ]
  },
  {
   "cell_type": "code",
   "execution_count": null,
   "metadata": {
    "colab": {
     "autoexec": {
      "startup": false,
      "wait_interval": 0
     },
     "base_uri": "https://localhost:8080/",
     "height": 37
    },
    "colab_type": "code",
    "executionInfo": {
     "elapsed": 847,
     "status": "ok",
     "timestamp": 1529967531931,
     "user": {
      "displayName": "Mohamed Ramzy",
      "photoUrl": "https://lh3.googleusercontent.com/a/default-user=s128",
      "userId": "110230820219558545195"
     },
     "user_tz": -120
    },
    "id": "7ZklnFw65wbm",
    "outputId": "aab597af-5e50-405c-cfef-b13608dfc45c"
   },
   "outputs": [],
   "source": [
    "def model(input_shape):\n",
    "    inp = k.layers.Input(shape = input_shape)\n",
    "    X = k.layers.Embedding(input_dim = min_words , output_dim = 100 , weights = [embedding_matrix])(inp)\n",
    "    X = k.layers.SpatialDropout1D(0.25)(X)\n",
    "    X = Bidirectional(GRU(50 , return_sequences = False , recurrent_dropout = 0.25))(X)\n",
    "    X = k.layers.Dense(6 , activation = 'sigmoid')(X)\n",
    "  \n",
    "    return k.Model(inputs = inp , outputs = X)\n",
    "  "
   ]
  },
  {
   "cell_type": "code",
   "execution_count": null,
   "metadata": {
    "colab": {
     "autoexec": {
      "startup": false,
      "wait_interval": 0
     },
     "base_uri": "https://localhost:8080/",
     "height": 37
    },
    "colab_type": "code",
    "executionInfo": {
     "elapsed": 1914,
     "status": "ok",
     "timestamp": 1529967636159,
     "user": {
      "displayName": "Mohamed Ramzy",
      "photoUrl": "https://lh3.googleusercontent.com/a/default-user=s128",
      "userId": "110230820219558545195"
     },
     "user_tz": -120
    },
    "id": "EKoxjRAT-1Ay",
    "outputId": "7f84f878-338c-419c-8e28-a402fc17f13d"
   },
   "outputs": [],
   "source": [
    "toxic_model = model((100,))"
   ]
  },
  {
   "cell_type": "code",
   "execution_count": null,
   "metadata": {
    "colab": {
     "autoexec": {
      "startup": false,
      "wait_interval": 0
     },
     "base_uri": "https://localhost:8080/",
     "height": 306
    },
    "colab_type": "code",
    "executionInfo": {
     "elapsed": 477,
     "status": "ok",
     "timestamp": 1529967636722,
     "user": {
      "displayName": "Mohamed Ramzy",
      "photoUrl": "https://lh3.googleusercontent.com/a/default-user=s128",
      "userId": "110230820219558545195"
     },
     "user_tz": -120
    },
    "id": "aCdpv8CD-4KD",
    "outputId": "d6006103-6927-41e6-dcc3-1906a41c7e2b"
   },
   "outputs": [],
   "source": [
    "toxic_model.summary()"
   ]
  },
  {
   "cell_type": "code",
   "execution_count": null,
   "metadata": {
    "colab": {
     "autoexec": {
      "startup": false,
      "wait_interval": 0
     },
     "base_uri": "https://localhost:8080/",
     "height": 37
    },
    "colab_type": "code",
    "executionInfo": {
     "elapsed": 1832,
     "status": "ok",
     "timestamp": 1529967645311,
     "user": {
      "displayName": "Mohamed Ramzy",
      "photoUrl": "https://lh3.googleusercontent.com/a/default-user=s128",
      "userId": "110230820219558545195"
     },
     "user_tz": -120
    },
    "id": "Y0eZ2YKQ-5p9",
    "outputId": "3796d7c2-a913-483f-e526-7d370917deb1"
   },
   "outputs": [],
   "source": [
    "toxic_model.compile(optimizer = 'rmsprop' , loss = 'binary_crossentropy' , metrics = ['accuracy'])"
   ]
  },
  {
   "cell_type": "code",
   "execution_count": null,
   "metadata": {
    "colab": {
     "autoexec": {
      "startup": false,
      "wait_interval": 0
     },
     "base_uri": "https://localhost:8080/",
     "height": 37
    },
    "colab_type": "code",
    "executionInfo": {
     "elapsed": 1052,
     "status": "ok",
     "timestamp": 1529967647274,
     "user": {
      "displayName": "Mohamed Ramzy",
      "photoUrl": "https://lh3.googleusercontent.com/a/default-user=s128",
      "userId": "110230820219558545195"
     },
     "user_tz": -120
    },
    "id": "YjWfbasYOfla",
    "outputId": "8a1ebd13-ef6d-47b6-a7ba-17b32c242cd6"
   },
   "outputs": [],
   "source": [
    "RocAuc = RocEval(validation_data=(X_val, y_val), interval=1)"
   ]
  },
  {
   "cell_type": "code",
   "execution_count": null,
   "metadata": {
    "colab": {
     "autoexec": {
      "startup": false,
      "wait_interval": 0
     },
     "base_uri": "https://localhost:8080/",
     "height": 37
    },
    "colab_type": "code",
    "executionInfo": {
     "elapsed": 482,
     "status": "ok",
     "timestamp": 1529967647847,
     "user": {
      "displayName": "Mohamed Ramzy",
      "photoUrl": "https://lh3.googleusercontent.com/a/default-user=s128",
      "userId": "110230820219558545195"
     },
     "user_tz": -120
    },
    "id": "jluwEUrOP8jc",
    "outputId": "5a312692-2eba-44a2-e4b5-2fae6e7eb6ac"
   },
   "outputs": [],
   "source": [
    "def Roc_score(y_true , y_pred):\n",
    "  return roc_auc_score(y_true , y_pred)"
   ]
  },
  {
   "cell_type": "code",
   "execution_count": null,
   "metadata": {
    "colab": {
     "autoexec": {
      "startup": false,
      "wait_interval": 0
     },
     "base_uri": "https://localhost:8080/",
     "height": 37
    },
    "colab_type": "code",
    "executionInfo": {
     "elapsed": 569,
     "status": "ok",
     "timestamp": 1529967648486,
     "user": {
      "displayName": "Mohamed Ramzy",
      "photoUrl": "https://lh3.googleusercontent.com/a/default-user=s128",
      "userId": "110230820219558545195"
     },
     "user_tz": -120
    },
    "id": "uQU3dHpeGdnd",
    "outputId": "c49ceed1-d29e-4039-b5b4-661dd53be8a7"
   },
   "outputs": [],
   "source": [
    "saver = k.callbacks.ModelCheckpoint(\"my_model.h5\", monitor='val_loss', verbose=2, save_best_only=True)"
   ]
  },
  {
   "cell_type": "code",
   "execution_count": null,
   "metadata": {
    "colab": {
     "autoexec": {
      "startup": false,
      "wait_interval": 0
     },
     "base_uri": "https://localhost:8080/",
     "height": 2036
    },
    "colab_type": "code",
    "executionInfo": {
     "elapsed": 759125,
     "status": "error",
     "timestamp": 1529968408866,
     "user": {
      "displayName": "Mohamed Ramzy",
      "photoUrl": "https://lh3.googleusercontent.com/a/default-user=s128",
      "userId": "110230820219558545195"
     },
     "user_tz": -120
    },
    "id": "g5liOYs5O0BU",
    "outputId": "f7613cc5-3c1f-40a3-bbe5-b404e6da3e0e"
   },
   "outputs": [],
   "source": [
    "toxic_model.fit(X_train, y_train, batch_size=1024, epochs=10, validation_data=(X_val, y_val),\n",
    "                 callbacks=[RocAuc , saver])"
   ]
  },
  {
   "cell_type": "code",
   "execution_count": null,
   "metadata": {
    "colab": {
     "autoexec": {
      "startup": false,
      "wait_interval": 0
     },
     "base_uri": "https://localhost:8080/",
     "height": 34
    },
    "colab_type": "code",
    "executionInfo": {
     "elapsed": 5458,
     "status": "ok",
     "timestamp": 1529959456924,
     "user": {
      "displayName": "Mohamed Ramzy",
      "photoUrl": "https://lh3.googleusercontent.com/a/default-user=s128",
      "userId": "110230820219558545195"
     },
     "user_tz": -120
    },
    "id": "-Qzt1CS2PmhJ",
    "outputId": "8fff36b7-01d4-4093-93cb-3863be23cc03"
   },
   "outputs": [],
   "source": [
    "prediction1 = toxic_model.predict(X_test , batch_size = 1024 , verbose = 1)"
   ]
  },
  {
   "cell_type": "code",
   "execution_count": null,
   "metadata": {},
   "outputs": [],
   "source": [
    "best_model = load_model(\"my_model.h5\")\n",
    "prediction2 = best_model.predict(X_test , batch_size = 1024 , verbose = 1)"
   ]
  },
  {
   "cell_type": "code",
   "execution_count": null,
   "metadata": {
    "colab": {
     "autoexec": {
      "startup": false,
      "wait_interval": 0
     },
     "base_uri": "https://localhost:8080/",
     "height": 37
    },
    "colab_type": "code",
    "executionInfo": {
     "elapsed": 842,
     "status": "ok",
     "timestamp": 1529877081612,
     "user": {
      "displayName": "Mohamed Ramzy",
      "photoUrl": "https://lh3.googleusercontent.com/a/default-user=s128",
      "userId": "110230820219558545195"
     },
     "user_tz": -120
    },
    "id": "sFejhwxwJ1Tg",
    "outputId": "7b781744-ec35-4939-fc27-5ec5f4b75632"
   },
   "outputs": [],
   "source": [
    "prediction = (prediction1 + prediction2) / 2"
   ]
  },
  {
   "cell_type": "code",
   "execution_count": null,
   "metadata": {},
   "outputs": [],
   "source": [
    "prediction = prediction.argmax(1)"
   ]
  },
  {
   "cell_type": "code",
   "execution_count": null,
   "metadata": {
    "colab": {
     "autoexec": {
      "startup": false,
      "wait_interval": 0
     },
     "base_uri": "https://localhost:8080/",
     "height": 17
    },
    "colab_type": "code",
    "executionInfo": {
     "elapsed": 2746,
     "status": "ok",
     "timestamp": 1529959460928,
     "user": {
      "displayName": "Mohamed Ramzy",
      "photoUrl": "https://lh3.googleusercontent.com/a/default-user=s128",
      "userId": "110230820219558545195"
     },
     "user_tz": -120
    },
    "id": "nhhXlIOrZDSV",
    "outputId": "3ad7ff8f-8dd1-4480-ec73-6556b44603ca"
   },
   "outputs": [],
   "source": [
    "submission[[\"toxic\", \"severe_toxic\", \"obscene\", \"threat\", \"insult\", \"identity_hate\"]] = prediction\n",
    "submission.to_csv(\"submission.csv\" , index = False)"
   ]
  },
  {
   "cell_type": "code",
   "execution_count": null,
   "metadata": {
    "colab": {
     "autoexec": {
      "startup": false,
      "wait_interval": 0
     }
    },
    "colab_type": "code",
    "id": "sSR7WSAjYw4B"
   },
   "outputs": [],
   "source": []
  }
 ],
 "metadata": {
  "colab": {
   "collapsed_sections": [],
   "default_view": {},
   "name": "Toxic comments.ipynb",
   "provenance": [],
   "version": "0.3.2",
   "views": {}
  },
  "kernelspec": {
   "display_name": "Python 3",
   "language": "python",
   "name": "python3"
  },
  "language_info": {
   "codemirror_mode": {
    "name": "ipython",
    "version": 3
   },
   "file_extension": ".py",
   "mimetype": "text/x-python",
   "name": "python",
   "nbconvert_exporter": "python",
   "pygments_lexer": "ipython3",
   "version": "3.6.4"
  }
 },
 "nbformat": 4,
 "nbformat_minor": 1
}
